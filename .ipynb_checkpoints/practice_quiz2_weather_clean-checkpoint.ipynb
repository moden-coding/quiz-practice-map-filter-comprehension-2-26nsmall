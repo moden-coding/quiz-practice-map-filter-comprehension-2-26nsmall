{
  "cells": [
    {
      "cell_type": "markdown",
      "id": "c5d33370",
      "metadata": {
        "id": "c5d33370"
      },
      "source": [
        "#Practice Quiz 2 — Weather Snapshots\n",
        "\n",
        "**Instructions:**  \n",
        "- You will work directly in this notebook.  \n",
        "- Keep your answers in the provided `# TODO` cells. Do not delete the original dataset cells.\n",
        "- Space is provided to show your solution as comprehension or as a filter/map function. Choose 1 to get an A, do both to get an A+\n",
        "---\n",
        "\n",
        "---\n"
      ]
    },
    {
      "cell_type": "markdown",
      "id": "2a7cb121",
      "metadata": {
        "id": "2a7cb121"
      },
      "source": [
        "**Dataset:** Daily weather snapshots: `date`, `tmax` (°F), `tmin` (°F), `precip` (inches) for late summer in New England.\n"
      ]
    },
    {
      "cell_type": "code",
      "execution_count": 35,
      "id": "87f052be",
      "metadata": {
        "colab": {
          "base_uri": "https://localhost:8080/"
        },
        "id": "87f052be",
        "outputId": "1d5751c4-d025-4233-bb09-6c484d5ae43e"
      },
      "outputs": [
        {
          "output_type": "execute_result",
          "data": {
            "text/plain": [
              "(11,\n",
              " [('2025-08-24', 83, 66, 0.0),\n",
              "  ('2025-08-25', 88, 70, 0.1),\n",
              "  ('2025-08-26', 90, 72, 0.0)])"
            ]
          },
          "metadata": {},
          "execution_count": 35
        }
      ],
      "source": [
        "\n",
        "# ----- DATA: Weather -----\n",
        "weather = [\n",
        "    (\"2025-08-24\", 83, 66, 0.00),\n",
        "    (\"2025-08-25\", 88, 70, 0.10),\n",
        "    (\"2025-08-26\", 90, 72, 0.00),\n",
        "    (\"2025-08-27\", 77, 63, 0.45),\n",
        "    (\"2025-08-28\", 79, 61, 0.00),\n",
        "    (\"2025-08-29\", 81, 60, 0.00),\n",
        "    (\"2025-08-30\", 74, 58, 0.30),\n",
        "    (\"2025-08-31\", 76, 60, 0.00),\n",
        "    (\"2025-09-01\", 84, 67, 0.05),\n",
        "    (\"2025-09-02\", 86, 68, 0.00),\n",
        "    (\"2025-09-03\", 63, 40, 0.00),\n",
        "]\n",
        "len(weather), weather[:3]\n"
      ]
    },
    {
      "cell_type": "markdown",
      "id": "8115e74a",
      "metadata": {
        "id": "8115e74a"
      },
      "source": [
        "\n",
        "### Tasks\n",
        "1. Create a **list** `big_swings` of dates where the daily temperature swing `(tmax - tmin)` ≥ 20°F. **Important note: I only want the dates for this, not all of the data. **\n"
      ]
    },
    {
      "cell_type": "code",
      "source": [],
      "metadata": {
        "id": "aG0vg-1vZ863"
      },
      "id": "aG0vg-1vZ863",
      "execution_count": 35,
      "outputs": []
    },
    {
      "cell_type": "code",
      "source": [],
      "metadata": {
        "id": "jIImqNW1Z_AZ"
      },
      "id": "jIImqNW1Z_AZ",
      "execution_count": 35,
      "outputs": []
    },
    {
      "cell_type": "markdown",
      "source": [
        "2. Create a **list** `dry_and_mild` of `(date, avg_temp)` for days with `precip == 0` and average temperature between 68°F and 78°F inclusive. Average in this case can be found using the high and low value for the day\n"
      ],
      "metadata": {
        "id": "K9Mtm3BAZ_Wv"
      },
      "id": "K9Mtm3BAZ_Wv"
    },
    {
      "cell_type": "code",
      "source": [],
      "metadata": {
        "id": "t1ByHHE3Z_ar"
      },
      "id": "t1ByHHE3Z_ar",
      "execution_count": 35,
      "outputs": []
    },
    {
      "cell_type": "code",
      "source": [],
      "metadata": {
        "id": "Yj4gl5QndQjn"
      },
      "id": "Yj4gl5QndQjn",
      "execution_count": 35,
      "outputs": []
    },
    {
      "cell_type": "code",
      "source": [],
      "metadata": {
        "id": "6Fs55SSiZ_eU"
      },
      "id": "6Fs55SSiZ_eU",
      "execution_count": 35,
      "outputs": []
    },
    {
      "cell_type": "code",
      "source": [],
      "metadata": {
        "id": "ZQkxB2Gbek4A"
      },
      "id": "ZQkxB2Gbek4A",
      "execution_count": 35,
      "outputs": []
    },
    {
      "cell_type": "markdown",
      "source": [
        "3. Build a **dict** `date_to_flags` mapping `date -> {\"hot\": bool, \"wet\": bool}` where `hot` is when the max temperature is ≥ 85`, `wet` is when precipitation is ≥ 0.1.\n"
      ],
      "metadata": {
        "id": "pzFk0oQrZ_hp"
      },
      "id": "pzFk0oQrZ_hp"
    },
    {
      "cell_type": "code",
      "source": [],
      "metadata": {
        "id": "b4jRacdFZ_lX"
      },
      "id": "b4jRacdFZ_lX",
      "execution_count": 35,
      "outputs": []
    },
    {
      "cell_type": "code",
      "source": [],
      "metadata": {
        "id": "e2K06364Z_pT"
      },
      "id": "e2K06364Z_pT",
      "execution_count": null,
      "outputs": []
    }
  ],
  "metadata": {
    "colab": {
      "provenance": []
    },
    "language_info": {
      "name": "python"
    },
    "kernelspec": {
      "name": "python3",
      "display_name": "Python 3"
    }
  },
  "nbformat": 4,
  "nbformat_minor": 5
}